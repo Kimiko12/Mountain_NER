{
 "cells": [
  {
   "cell_type": "code",
   "execution_count": 4,
   "metadata": {},
   "outputs": [
    {
     "name": "stdout",
     "output_type": "stream",
     "text": [
      "Defaulting to user installation because normal site-packages is not writeable\n",
      "Collecting transformers\n",
      "  Downloading transformers-4.47.1-py3-none-any.whl (10.1 MB)\n",
      "\u001b[2K     \u001b[90m━━━━━━━━━━━━━━━━━━━━━━━━━━━━━━━━━━━━━━━━\u001b[0m \u001b[32m10.1/10.1 MB\u001b[0m \u001b[31m8.1 MB/s\u001b[0m eta \u001b[36m0:00:00\u001b[0m00:01\u001b[0m0:01\u001b[0m\n",
      "\u001b[?25hCollecting tokenizers<0.22,>=0.21\n",
      "  Downloading tokenizers-0.21.0-cp39-abi3-manylinux_2_17_x86_64.manylinux2014_x86_64.whl (3.0 MB)\n",
      "\u001b[2K     \u001b[90m━━━━━━━━━━━━━━━━━━━━━━━━━━━━━━━━━━━━━━━━\u001b[0m \u001b[32m3.0/3.0 MB\u001b[0m \u001b[31m8.5 MB/s\u001b[0m eta \u001b[36m0:00:00\u001b[0m00:01\u001b[0m00:01\u001b[0m\n",
      "\u001b[?25hRequirement already satisfied: packaging>=20.0 in /home/nikolay/.local/lib/python3.10/site-packages (from transformers) (24.1)\n",
      "Requirement already satisfied: pyyaml>=5.1 in /usr/lib/python3/dist-packages (from transformers) (5.4.1)\n",
      "Requirement already satisfied: numpy>=1.17 in /home/nikolay/.local/lib/python3.10/site-packages (from transformers) (2.1.2)\n",
      "Requirement already satisfied: tqdm>=4.27 in /home/nikolay/.local/lib/python3.10/site-packages (from transformers) (4.66.5)\n",
      "Collecting safetensors>=0.4.1\n",
      "  Downloading safetensors-0.4.5-cp310-cp310-manylinux_2_17_x86_64.manylinux2014_x86_64.whl (435 kB)\n",
      "\u001b[2K     \u001b[90m━━━━━━━━━━━━━━━━━━━━━━━━━━━━━━━━━━━━━━━\u001b[0m \u001b[32m435.0/435.0 KB\u001b[0m \u001b[31m8.4 MB/s\u001b[0m eta \u001b[36m0:00:00\u001b[0ma \u001b[36m0:00:01\u001b[0m\n",
      "\u001b[?25hRequirement already satisfied: requests in /home/nikolay/.local/lib/python3.10/site-packages (from transformers) (2.32.3)\n",
      "Requirement already satisfied: filelock in /home/nikolay/.local/lib/python3.10/site-packages (from transformers) (3.16.1)\n",
      "Requirement already satisfied: regex!=2019.12.17 in /home/nikolay/.local/lib/python3.10/site-packages (from transformers) (2024.11.6)\n",
      "Collecting huggingface-hub<1.0,>=0.24.0\n",
      "  Downloading huggingface_hub-0.27.0-py3-none-any.whl (450 kB)\n",
      "\u001b[2K     \u001b[90m━━━━━━━━━━━━━━━━━━━━━━━━━━━━━━━━━━━━━━━\u001b[0m \u001b[32m450.5/450.5 KB\u001b[0m \u001b[31m8.2 MB/s\u001b[0m eta \u001b[36m0:00:00\u001b[0ma \u001b[36m0:00:01\u001b[0m\n",
      "\u001b[?25hRequirement already satisfied: typing-extensions>=3.7.4.3 in /home/nikolay/.local/lib/python3.10/site-packages (from huggingface-hub<1.0,>=0.24.0->transformers) (4.12.2)\n",
      "Requirement already satisfied: fsspec>=2023.5.0 in /home/nikolay/.local/lib/python3.10/site-packages (from huggingface-hub<1.0,>=0.24.0->transformers) (2024.9.0)\n",
      "Requirement already satisfied: urllib3<3,>=1.21.1 in /home/nikolay/.local/lib/python3.10/site-packages (from requests->transformers) (2.2.3)\n",
      "Requirement already satisfied: idna<4,>=2.5 in /home/nikolay/.local/lib/python3.10/site-packages (from requests->transformers) (3.7)\n",
      "Requirement already satisfied: certifi>=2017.4.17 in /home/nikolay/.local/lib/python3.10/site-packages (from requests->transformers) (2024.8.30)\n",
      "Requirement already satisfied: charset-normalizer<4,>=2 in /home/nikolay/.local/lib/python3.10/site-packages (from requests->transformers) (3.4.0)\n",
      "Installing collected packages: safetensors, huggingface-hub, tokenizers, transformers\n",
      "Successfully installed huggingface-hub-0.27.0 safetensors-0.4.5 tokenizers-0.21.0 transformers-4.47.1\n"
     ]
    }
   ],
   "source": [
    "!pip install transformers"
   ]
  },
  {
   "cell_type": "code",
   "execution_count": 39,
   "metadata": {},
   "outputs": [],
   "source": [
    "from inference import NERInference"
   ]
  },
  {
   "cell_type": "markdown",
   "metadata": {},
   "source": [
    "Example of model inference on invented sentences:"
   ]
  },
  {
   "cell_type": "code",
   "execution_count": 40,
   "metadata": {},
   "outputs": [],
   "source": [
    "model_path = '/home/nikolay/test_task_quantum/NER_with_Bert/model_checkpoints/model.bin'\n",
    "id2label = {0: 'B_mount', 1: 'I_mount', 2: 'O'}\n",
    "\n",
    "inference = NERInference(model_path=model_path, id2label=id2label, device='cpu')\n"
   ]
  },
  {
   "cell_type": "code",
   "execution_count": 41,
   "metadata": {},
   "outputs": [
    {
     "name": "stdout",
     "output_type": "stream",
     "text": [
      "Input sentence:\n",
      "Mont Blanc nestled in the Alps is the tallest mountain in Western Europe.\n",
      "Prediction:\n",
      "[{'word': 'Mont', 'label': 'B_mount'}, {'word': 'Blanc', 'label': 'B_mount'}, {'word': 'nestled', 'label': 'O'}, {'word': 'in', 'label': 'O'}, {'word': 'the', 'label': 'O'}, {'word': 'Alps', 'label': 'B_mount'}, {'word': 'is', 'label': 'O'}, {'word': 'the', 'label': 'O'}, {'word': 'tallest', 'label': 'O'}, {'word': 'mountain', 'label': 'O'}, {'word': 'in', 'label': 'O'}, {'word': 'Western', 'label': 'O'}, {'word': 'Europe', 'label': 'O'}, {'word': '.', 'label': 'O'}]\n"
     ]
    }
   ],
   "source": [
    "sentence = \"Mont Blanc nestled in the Alps is the tallest mountain in Western Europe.\"\n",
    "results = inference.predict(sentence)\n",
    "\n",
    "print(f\"Input sentence:\\n{sentence}\")\n",
    "print(f\"Prediction:\\n{results}\")"
   ]
  },
  {
   "cell_type": "code",
   "execution_count": 42,
   "metadata": {},
   "outputs": [
    {
     "name": "stdout",
     "output_type": "stream",
     "text": [
      "Input sentence:\n",
      "The Carpathian Mountains are a vital part of Europe's natural heritage.\n",
      "Prediction:\n",
      "[{'word': 'The', 'label': 'O'}, {'word': 'Car', 'label': 'B_mount'}, {'word': '##pathian', 'label': 'B_mount'}, {'word': 'Mountains', 'label': 'B_mount'}, {'word': 'are', 'label': 'O'}, {'word': 'a', 'label': 'O'}, {'word': 'vital', 'label': 'O'}, {'word': 'part', 'label': 'O'}, {'word': 'of', 'label': 'O'}, {'word': 'Europe', 'label': 'O'}, {'word': \"'\", 'label': 'O'}, {'word': 's', 'label': 'O'}, {'word': 'natural', 'label': 'O'}, {'word': 'heritage', 'label': 'O'}, {'word': '.', 'label': 'O'}]\n"
     ]
    }
   ],
   "source": [
    "sentence = \"The Carpathian Mountains are a vital part of Europe's natural heritage.\"\n",
    "results = inference.predict(sentence)\n",
    "\n",
    "print(f\"Input sentence:\\n{sentence}\")\n",
    "print(f\"Prediction:\\n{results}\")"
   ]
  },
  {
   "cell_type": "code",
   "execution_count": 44,
   "metadata": {},
   "outputs": [
    {
     "name": "stdout",
     "output_type": "stream",
     "text": [
      "Input sentence:\n",
      "I explored the Tatra Mountains, a beautiful range in Slovakia.\n",
      "Prediction:\n",
      "[{'word': 'I', 'label': 'O'}, {'word': 'explored', 'label': 'O'}, {'word': 'the', 'label': 'O'}, {'word': 'Ta', 'label': 'B_mount'}, {'word': '##tra', 'label': 'B_mount'}, {'word': 'Mountains', 'label': 'B_mount'}, {'word': ',', 'label': 'B_mount'}, {'word': 'a', 'label': 'O'}, {'word': 'beautiful', 'label': 'O'}, {'word': 'range', 'label': 'O'}, {'word': 'in', 'label': 'O'}, {'word': 'Slovakia', 'label': 'O'}, {'word': '.', 'label': 'O'}]\n"
     ]
    }
   ],
   "source": [
    "sentence = \"I explored the Tatra Mountains, a beautiful range in Slovakia.\"\n",
    "\n",
    "results = inference.predict(sentence)\n",
    "\n",
    "print(f\"Input sentence:\\n{sentence}\")\n",
    "print(f\"Prediction:\\n{results}\")"
   ]
  },
  {
   "cell_type": "code",
   "execution_count": null,
   "metadata": {},
   "outputs": [],
   "source": []
  }
 ],
 "metadata": {
  "kernelspec": {
   "display_name": "Python 3",
   "language": "python",
   "name": "python3"
  },
  "language_info": {
   "codemirror_mode": {
    "name": "ipython",
    "version": 3
   },
   "file_extension": ".py",
   "mimetype": "text/x-python",
   "name": "python",
   "nbconvert_exporter": "python",
   "pygments_lexer": "ipython3",
   "version": "3.10.12"
  }
 },
 "nbformat": 4,
 "nbformat_minor": 2
}
